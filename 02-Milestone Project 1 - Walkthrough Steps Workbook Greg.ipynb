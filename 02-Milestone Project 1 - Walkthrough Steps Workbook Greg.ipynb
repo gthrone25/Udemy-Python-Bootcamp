{
 "cells": [
  {
   "cell_type": "markdown",
   "metadata": {},
   "source": [
    "# Milestone Project 1: Walkthrough Steps Workbook\n",
    "\n",
    "Below is a set of steps for you to follow to try to create the Tic Tac Toe Milestone Project game!"
   ]
  },
  {
   "cell_type": "markdown",
   "metadata": {},
   "source": [
    "#### Some suggested tools before you get started:\n",
    "To take input from a user:\n",
    "\n",
    "    player1 = input(\"Please pick a marker 'X' or 'O'\")\n",
    "    \n",
    "Note that input() takes in a string. If you need an integer value, use\n",
    "\n",
    "    position = int(input('Please enter a number'))\n",
    "    \n",
    "<br>To clear the screen between moves:\n",
    "\n",
    "    from IPython.display import clear_output\n",
    "    clear_output()\n",
    "    \n",
    "Note that clear_output() will only work in jupyter. To clear the screen in other IDEs, consider:\n",
    "\n",
    "    print('\\n'*100)\n",
    "    \n",
    "This scrolls the previous board up out of view. Now on to the program!"
   ]
  },
  {
   "cell_type": "markdown",
   "metadata": {},
   "source": [
    "**Step 1: Write a function that can print out a board. Set up your board as a list, where each index 1-9 corresponds with a number on a number pad, so you get a 3 by 3 board representation.**"
   ]
  },
  {
   "cell_type": "code",
   "execution_count": 4,
   "metadata": {
    "collapsed": true
   },
   "outputs": [],
   "source": [
    "from IPython.display import clear_output\n",
    "\n",
    "def display_board(board):\n",
    "    frame = [['1','2','3'],[4,5,6],[7,8,9]]\n",
    "    for item, play in enumerate(board):\n",
    "        if item in [0,1,2]:\n",
    "            frame[0][item] = play\n",
    "        elif item in [3,4,5]:\n",
    "            frame[1][item - 3] = play\n",
    "        else:\n",
    "            frame[2][item - 7] = play\n",
    "    for row in frame:\n",
    "        print(frame[row])"
   ]
  },
  {
   "cell_type": "code",
   "execution_count": 87,
   "metadata": {
    "collapsed": true
   },
   "outputs": [],
   "source": [
    "from IPython.display import clear_output\n",
    "\n",
    "def display_board(board):\n",
    "    clear_output()\n",
    "    print(board[7]+'|'+board[8]+'|'+board[9])\n",
    "    print('------')\n",
    "    print(board[4]+'|'+board[5]+'|'+board[6])\n",
    "    print('------')\n",
    "    print(board[1]+'|'+board[2]+'|'+board[3])"
   ]
  },
  {
   "cell_type": "markdown",
   "metadata": {},
   "source": [
    "**TEST Step 1:** run your function on a test version of the board list, and make adjustments as necessary"
   ]
  },
  {
   "cell_type": "code",
   "execution_count": 6,
   "metadata": {},
   "outputs": [
    {
     "name": "stdout",
     "output_type": "stream",
     "text": [
      "X|O|X\n",
      "------\n",
      "O|X|O\n",
      "------\n",
      "X|O|X\n"
     ]
    }
   ],
   "source": [
    "test_board = ['#','X','O','X','O','X','O','X','O','X']\n",
    "display_board(test_board)"
   ]
  },
  {
   "cell_type": "markdown",
   "metadata": {},
   "source": [
    "**Step 2: Write a function that can take in a player input and assign their marker as 'X' or 'O'. Think about using *while* loops to continually ask until you get a correct answer.**"
   ]
  },
  {
   "cell_type": "code",
   "execution_count": 80,
   "metadata": {
    "collapsed": true
   },
   "outputs": [],
   "source": [
    "def player_input():\n",
    "    \n",
    "    marker = ''\n",
    "    \n",
    "    # Keep asking player 1 to choose X or O\n",
    "    \n",
    "    while marker.upper() != 'X' and marker != 'O':\n",
    "        marker = input('Player 1, choose X or O: ').upper()\n",
    "        \n",
    "    #Assign player 2, the oposite marker\n",
    "    player1 = marker\n",
    "    \n",
    "    if player1 == 'X':\n",
    "        player2 = 'O'\n",
    "    else:\n",
    "        player2 = 'X'\n",
    "        \n",
    "    return (player1,player2)\n"
   ]
  },
  {
   "cell_type": "markdown",
   "metadata": {},
   "source": [
    "**TEST Step 2:** run the function to make sure it returns the desired output"
   ]
  },
  {
   "cell_type": "code",
   "execution_count": 58,
   "metadata": {},
   "outputs": [
    {
     "name": "stdout",
     "output_type": "stream",
     "text": [
      "Player 1, choose X or O: O\n",
      "O\n",
      "X\n"
     ]
    }
   ],
   "source": [
    "a,b = player_input()\n",
    "print(a)\n",
    "print(b)"
   ]
  },
  {
   "cell_type": "markdown",
   "metadata": {},
   "source": [
    "**Step 3: Write a function that takes in the board list object, a marker ('X' or 'O'), and a desired position (number 1-9) and assigns it to the board.**"
   ]
  },
  {
   "cell_type": "code",
   "execution_count": 23,
   "metadata": {
    "collapsed": true
   },
   "outputs": [],
   "source": [
    "def place_marker(board, marker, position):\n",
    "    \n",
    "    if marker == 'X' or marker == 'O':\n",
    "        board[position] = marker\n",
    "    else:\n",
    "        print('Marker must be an X or an O')\n",
    "    return board"
   ]
  },
  {
   "cell_type": "markdown",
   "metadata": {},
   "source": [
    "**TEST Step 3:** run the place marker function using test parameters and display the modified board"
   ]
  },
  {
   "cell_type": "code",
   "execution_count": 24,
   "metadata": {},
   "outputs": [
    {
     "name": "stdout",
     "output_type": "stream",
     "text": [
      "X|O|X\n",
      "------\n",
      "O|X|O\n",
      "------\n",
      "X|O|X\n",
      "['#', 'X', 'O', 'X', 'O', 'X', 'O', 'X', 'O', 'X']\n"
     ]
    }
   ],
   "source": [
    "place_marker(test_board,'cfb',8)\n",
    "display_board(test_board)\n",
    "print(test_board)\n"
   ]
  },
  {
   "cell_type": "markdown",
   "metadata": {},
   "source": [
    "**Step 4: Write a function that takes in a board and a mark (X or O) and then checks to see if that mark has won. **"
   ]
  },
  {
   "cell_type": "code",
   "execution_count": 25,
   "metadata": {
    "collapsed": true
   },
   "outputs": [],
   "source": [
    "def win_check(board, mark):\n",
    "    \n",
    "    if board[7] == board[8] == board[9] == mark:\n",
    "        return True\n",
    "    elif board[7] == board[4] == board[1] == mark:\n",
    "        return True\n",
    "    elif board[7] == board[5] == board[3] == mark:\n",
    "        return True\n",
    "    elif board[8] == board[5] == board[2] == mark:\n",
    "        return True\n",
    "    elif board[9] == board[6] == board[3] == mark:\n",
    "        return True\n",
    "    elif board[9] == board[5] == board[1] == mark:\n",
    "        return True\n",
    "    elif board[4] == board[5] == board[6] == mark:\n",
    "        return True\n",
    "    elif board[1] == board[2] == board[3] == mark:\n",
    "        return True\n",
    "    else:\n",
    "        return False"
   ]
  },
  {
   "cell_type": "markdown",
   "metadata": {},
   "source": [
    "**TEST Step 4:** run the win_check function against our test_board - it should return True"
   ]
  },
  {
   "cell_type": "code",
   "execution_count": 28,
   "metadata": {},
   "outputs": [
    {
     "data": {
      "text/plain": [
       "True"
      ]
     },
     "execution_count": 28,
     "metadata": {},
     "output_type": "execute_result"
    }
   ],
   "source": [
    "win_check(test_board,'X')"
   ]
  },
  {
   "cell_type": "markdown",
   "metadata": {},
   "source": [
    "**Step 5: Write a function that uses the random module to randomly decide which player goes first. You may want to lookup random.randint() Return a string of which player went first.**"
   ]
  },
  {
   "cell_type": "code",
   "execution_count": 35,
   "metadata": {},
   "outputs": [],
   "source": [
    "import random\n",
    "\n",
    "\n",
    "def choose_first():\n",
    "    rand = random.randint(0,1)\n",
    "    if rand == 0:\n",
    "        return 'Player 1 goes first'\n",
    "    else:\n",
    "        return 'Player 2 goes first'"
   ]
  },
  {
   "cell_type": "code",
   "execution_count": 64,
   "metadata": {},
   "outputs": [
    {
     "name": "stdout",
     "output_type": "stream",
     "text": [
      "Player 2 goes first\n"
     ]
    }
   ],
   "source": [
    "a = choose_first()\n",
    "print(a)"
   ]
  },
  {
   "cell_type": "markdown",
   "metadata": {},
   "source": [
    "**Step 6: Write a function that returns a boolean indicating whether a space on the board is freely available.**"
   ]
  },
  {
   "cell_type": "code",
   "execution_count": 81,
   "metadata": {
    "collapsed": true
   },
   "outputs": [],
   "source": [
    "def space_check(board, position):\n",
    "    \n",
    "    if board[position] in ('O','X'):\n",
    "        print('This position is taken, try again')\n",
    "        return False\n",
    "    else:\n",
    "        return True"
   ]
  },
  {
   "cell_type": "markdown",
   "metadata": {},
   "source": [
    "**Step 7: Write a function that checks if the board is full and returns a boolean value. True if full, False otherwise.**"
   ]
  },
  {
   "cell_type": "code",
   "execution_count": 70,
   "metadata": {},
   "outputs": [],
   "source": [
    "#board1 = ['',' - ',' | ',' - ',' - ',' | ',' - ',' - ',' | ',' - ']\n",
    "#check1 = set(board1)\n",
    "#print(check1)\n",
    "\n",
    "def full_board_check(board):\n",
    "    \n",
    "    check = set(board)\n",
    "    if len(check) != 2:\n",
    "        return False\n",
    "    else:\n",
    "        return True"
   ]
  },
  {
   "cell_type": "markdown",
   "metadata": {},
   "source": [
    "**Step 8: Write a function that asks for a player's next position (as a number 1-9) and then uses the function from step 6 to check if it's a free position. If it is, then return the position for later use.**"
   ]
  },
  {
   "cell_type": "code",
   "execution_count": 54,
   "metadata": {},
   "outputs": [],
   "source": [
    "def player_choice(board):\n",
    "    space = 0\n",
    "    while space == 0 or space > 9 or not space_check(board,space) :\n",
    "        space = int(input('What position (1-9) would you like to play: '))\n",
    "    return space\n",
    "\n",
    "#print(test_board)\n",
    "#print(test_board[1])\n",
    "#space_check(test_board,0)\n",
    "#player_choice(test_board)"
   ]
  },
  {
   "cell_type": "markdown",
   "metadata": {},
   "source": [
    "**Step 9: Write a function that asks the player if they want to play again and returns a boolean True if they do want to play again.**"
   ]
  },
  {
   "cell_type": "code",
   "execution_count": 56,
   "metadata": {},
   "outputs": [],
   "source": [
    "def replay():\n",
    "    \n",
    "    ans = input('Would you like to play again (Y or N): ')\n",
    "    return ans.upper() == 'Y'\n",
    "        "
   ]
  },
  {
   "cell_type": "markdown",
   "metadata": {
    "collapsed": true
   },
   "source": [
    "**Step 10: Here comes the hard part! Use while loops and the functions you've made to run the game!**"
   ]
  },
  {
   "cell_type": "code",
   "execution_count": 86,
   "metadata": {},
   "outputs": [
    {
     "name": "stdout",
     "output_type": "stream",
     "text": [
      "X| * | - \n",
      "-----------\n",
      "O|X|O\n",
      "-----------\n",
      "X|O|X\n",
      "X's is the winner!\n",
      "Would you like to play again (Y or N): n\n",
      "Thanks for playing!\n"
     ]
    }
   ],
   "source": [
    "print('Welcome to Tic Tac Toe!')\n",
    "\n",
    "game = True\n",
    "\n",
    "while game:\n",
    "    # Set the game up here\n",
    "    # create dummy board\n",
    "    board = ['X','-','*','-','*','-','*','-','*','-']\n",
    "    # start by assigning players and turn\n",
    "    player1,player2 = player_input()\n",
    "    first = choose_first()\n",
    "    print(first)\n",
    "    #print board\n",
    "    \n",
    "    \n",
    "    #Start Game with player one\n",
    "    while not full_board_check(board):\n",
    "        #Player 1 Turn\n",
    "        position = player_choice(board)\n",
    "        place_marker(board, player1, position)\n",
    "        display_board(board)\n",
    "        if win_check(board, player1):\n",
    "            print(player1 + \"'s is the winner!\")\n",
    "            break\n",
    "        if full_board_check(board):\n",
    "            break\n",
    "        # Player2's turn.\n",
    "        position = player_choice(board)\n",
    "        place_marker(board, player2, position)\n",
    "        display_board(board) \n",
    "        if win_check(board, player2):\n",
    "            print(player2 + \"'s is the winner!\")\n",
    "            break\n",
    "            #pass\n",
    "    if full_board_check(board) and not win_check(board, player2) and not win_check(board, player2):\n",
    "        print(\"Cat's game! :( Try again?\")\n",
    "    if not replay():\n",
    "        print('Thanks for playing!')\n",
    "        game = False\n",
    "        break"
   ]
  },
  {
   "cell_type": "markdown",
   "metadata": {
    "collapsed": true
   },
   "source": [
    "## Good Job!"
   ]
  }
 ],
 "metadata": {
  "kernelspec": {
   "display_name": "Python 3",
   "language": "python",
   "name": "python3"
  },
  "language_info": {
   "codemirror_mode": {
    "name": "ipython",
    "version": 3
   },
   "file_extension": ".py",
   "mimetype": "text/x-python",
   "name": "python",
   "nbconvert_exporter": "python",
   "pygments_lexer": "ipython3",
   "version": "3.6.4"
  }
 },
 "nbformat": 4,
 "nbformat_minor": 1
}
