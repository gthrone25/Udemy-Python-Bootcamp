{
 "cells": [
  {
   "cell_type": "markdown",
   "metadata": {
    "collapsed": true
   },
   "source": [
    "# Milestone Project 2 - Walkthrough Steps Workbook\n",
    "Below is a set of steps for you to follow to try to create the Blackjack Milestone Project game!"
   ]
  },
  {
   "cell_type": "markdown",
   "metadata": {},
   "source": [
    "## Game Play\n",
    "To play a hand of Blackjack the following steps must be followed:\n",
    "1. Create a deck of 52 cards\n",
    "2. Shuffle the deck\n",
    "3. Ask the Player for their bet\n",
    "4. Make sure that the Player's bet does not exceed their available chips\n",
    "5. Deal two cards to the Dealer and two cards to the Player\n",
    "6. Show only one of the Dealer's cards, the other remains hidden\n",
    "7. Show both of the Player's cards\n",
    "8. Ask the Player if they wish to Hit, and take another card\n",
    "9. If the Player's hand doesn't Bust (go over 21), ask if they'd like to Hit again.\n",
    "10. If a Player Stands, play the Dealer's hand. The dealer will always Hit until the Dealer's value meets or exceeds 17\n",
    "11. Determine the winner and adjust the Player's chips accordingly\n",
    "12. Ask the Player if they'd like to play again"
   ]
  },
  {
   "cell_type": "markdown",
   "metadata": {},
   "source": [
    "## Playing Cards\n",
    "A standard deck of playing cards has four suits (Hearts, Diamonds, Spades and Clubs) and thirteen ranks (2 through 10, then the face cards Jack, Queen, King and Ace) for a total of 52 cards per deck. Jacks, Queens and Kings all have a rank of 10. Aces have a rank of either 11 or 1 as needed to reach 21 without busting. As a starting point in your program, you may want to assign variables to store a list of suits, ranks, and then use a dictionary to map ranks to values."
   ]
  },
  {
   "cell_type": "markdown",
   "metadata": {},
   "source": [
    "## The Game\n",
    "### Imports and Global Variables\n",
    "** Step 1: Import the random module. This will be used to shuffle the deck prior to dealing. Then, declare variables to store suits, ranks and values. You can develop your own system, or copy ours below. Finally, declare a Boolean value to be used to control <code>while</code> loops. This is a common practice used to control the flow of the game.**\n",
    "\n",
    "    suits = ('Hearts', 'Diamonds', 'Spades', 'Clubs')\n",
    "    ranks = ('Two', 'Three', 'Four', 'Five', 'Six', 'Seven', 'Eight', 'Nine', 'Ten', 'Jack', 'Queen', 'King', 'Ace')\n",
    "    values = {'Two':2, 'Three':3, 'Four':4, 'Five':5, 'Six':6, 'Seven':7, 'Eight':8, 'Nine':9, 'Ten':10, 'Jack':10,\n",
    "             'Queen':10, 'King':10, 'Ace':11}"
   ]
  },
  {
   "cell_type": "code",
   "execution_count": 8,
   "metadata": {
    "collapsed": true
   },
   "outputs": [],
   "source": [
    "import random\n",
    "\n",
    "suits = ('Hearts', 'Diamonds', 'Spades', 'Clubs')\n",
    "ranks = ('Two', 'Three', 'Four', 'Five', 'Six', 'Seven', 'Eight', 'Nine', 'Ten', 'Jack', 'Queen', 'King', 'Ace')\n",
    "values = {'Two':2, 'Three':3, 'Four':4, 'Five':5, 'Six':6, 'Seven':7, 'Eight':8, 'Nine':9, 'Ten':10, 'Jack':10,\n",
    "         'Queen':10, 'King':10, 'Ace':11}\n",
    "\n",
    "playing = True"
   ]
  },
  {
   "cell_type": "code",
   "execution_count": 33,
   "metadata": {},
   "outputs": [
    {
     "data": {
      "text/plain": [
       "2"
      ]
     },
     "execution_count": 33,
     "metadata": {},
     "output_type": "execute_result"
    }
   ],
   "source": [
    "values['Two']"
   ]
  },
  {
   "cell_type": "markdown",
   "metadata": {},
   "source": [
    "### Class Definitions\n",
    "Consider making a Card class where each Card object has a suit and a rank, then a Deck class to hold all 52 Card objects, and can be shuffled, and finally a Hand class that holds those Cards that have been dealt to each player from the Deck."
   ]
  },
  {
   "cell_type": "markdown",
   "metadata": {},
   "source": [
    "**Step 2: Create a Card Class**<br>\n",
    "A Card object really only needs two attributes: suit and rank. You might add an attribute for \"value\" - we chose to handle value later when developing our Hand class.<br>In addition to the Card's \\_\\_init\\_\\_ method, consider adding a \\_\\_str\\_\\_ method that, when asked to print a Card, returns a string in the form \"Two of Hearts\""
   ]
  },
  {
   "cell_type": "code",
   "execution_count": 5,
   "metadata": {
    "collapsed": true
   },
   "outputs": [],
   "source": [
    "class Card():\n",
    "    \n",
    "    def __init__(self, suit, rank):\n",
    "        self.rank = rank\n",
    "        self.suit = suit\n",
    "    \n",
    "    def __str__(self):\n",
    "        return \"{} of {}\".format(self.rank, self.suit)"
   ]
  },
  {
   "cell_type": "code",
   "execution_count": 88,
   "metadata": {},
   "outputs": [
    {
     "name": "stdout",
     "output_type": "stream",
     "text": [
      "two of hearts\n"
     ]
    }
   ],
   "source": [
    "c = Card('hearts', 'two')\n",
    "print(c)"
   ]
  },
  {
   "cell_type": "markdown",
   "metadata": {},
   "source": [
    "**Step 3: Create a Deck Class**<br>\n",
    "Here we might store 52 card objects in a list that can later be shuffled. First, though, we need to *instantiate* all 52 unique card objects and add them to our list. So long as the Card class definition appears in our code, we can build Card objects inside our Deck \\_\\_init\\_\\_ method. Consider iterating over sequences of suits and ranks to build out each card. This might appear inside a Deck class \\_\\_init\\_\\_ method:\n",
    "\n",
    "    for suit in suits:\n",
    "        for rank in ranks:\n",
    "\n",
    "In addition to an \\_\\_init\\_\\_ method we'll want to add methods to shuffle our deck, and to deal out cards during gameplay.<br><br>\n",
    "OPTIONAL: We may never need to print the contents of the deck during gameplay, but having the ability to see the cards inside it may help troubleshoot any problems that occur during development. With this in mind, consider adding a \\_\\_str\\_\\_ method to the class definition."
   ]
  },
  {
   "cell_type": "code",
   "execution_count": 75,
   "metadata": {
    "collapsed": true
   },
   "outputs": [],
   "source": [
    "class Deck():\n",
    "    \n",
    "    def __init__(self):\n",
    "        #Card.__init__(self)\n",
    "        self.deck = []  # start with an empty list\n",
    "        for suit in suits:\n",
    "            for rank in ranks:\n",
    "                self.deck.append(Card(suit, rank))\n",
    "    \n",
    "    def __str__(self):\n",
    "        #return [ x.__str__() for x in self.deck]\n",
    "        #return self.deck\n",
    "        snap = ''\n",
    "        for card in self.deck:\n",
    "            snap += card.__str__() + '\\n'\n",
    "        return snap\n",
    "\n",
    "    def shuffle(self):\n",
    "        random.shuffle(self.deck)\n",
    "        \n",
    "    def deal(self):\n",
    "        return self.deck.pop()"
   ]
  },
  {
   "cell_type": "markdown",
   "metadata": {},
   "source": [
    "TESTING: Just to see that everything works so far, let's see what our Deck looks like!"
   ]
  },
  {
   "cell_type": "code",
   "execution_count": 93,
   "metadata": {},
   "outputs": [
    {
     "name": "stdout",
     "output_type": "stream",
     "text": [
      "Two of Hearts\n",
      "Three of Hearts\n",
      "Four of Hearts\n",
      "Five of Hearts\n",
      "Six of Hearts\n",
      "Seven of Hearts\n",
      "Eight of Hearts\n",
      "Nine of Hearts\n",
      "Ten of Hearts\n",
      "Jack of Hearts\n",
      "Queen of Hearts\n",
      "King of Hearts\n",
      "Ace of Hearts\n",
      "Two of Diamonds\n",
      "Three of Diamonds\n",
      "Four of Diamonds\n",
      "Five of Diamonds\n",
      "Six of Diamonds\n",
      "Seven of Diamonds\n",
      "Eight of Diamonds\n",
      "Nine of Diamonds\n",
      "Ten of Diamonds\n",
      "Jack of Diamonds\n",
      "Queen of Diamonds\n",
      "King of Diamonds\n",
      "Ace of Diamonds\n",
      "Two of Spades\n",
      "Three of Spades\n",
      "Four of Spades\n",
      "Five of Spades\n",
      "Six of Spades\n",
      "Seven of Spades\n",
      "Eight of Spades\n",
      "Nine of Spades\n",
      "Ten of Spades\n",
      "Jack of Spades\n",
      "Queen of Spades\n",
      "King of Spades\n",
      "Ace of Spades\n",
      "Two of Clubs\n",
      "Three of Clubs\n",
      "Four of Clubs\n",
      "Five of Clubs\n",
      "Six of Clubs\n",
      "Seven of Clubs\n",
      "Eight of Clubs\n",
      "Nine of Clubs\n",
      "Ten of Clubs\n",
      "Jack of Clubs\n",
      "Queen of Clubs\n",
      "King of Clubs\n",
      "\n"
     ]
    }
   ],
   "source": [
    "test_deck = Deck()\n",
    "#test_deck.shuffle()\n",
    "test_deck.deal()\n",
    "print(test_deck)"
   ]
  },
  {
   "cell_type": "markdown",
   "metadata": {},
   "source": [
    "Great! Now let's move on to our Hand class."
   ]
  },
  {
   "cell_type": "markdown",
   "metadata": {},
   "source": [
    "**Step 4: Create a Hand Class**<br>\n",
    "In addition to holding Card objects dealt from the Deck, the Hand class may be used to calculate the value of those cards using the values dictionary defined above. It may also need to adjust for the value of Aces when appropriate."
   ]
  },
  {
   "cell_type": "code",
   "execution_count": 97,
   "metadata": {},
   "outputs": [],
   "source": [
    "class Hand():\n",
    "    def __init__(self):\n",
    "        self.cards = []  # start with an empty list as we did in the Deck class\n",
    "        self.value = 0   # start with zero value\n",
    "        self.aces = 0    # add an attribute to keep track of aces\n",
    "        self.cnt = 0    # adding a counter for keeping track of value of hand\n",
    "    \n",
    "    def add_card(self,card):\n",
    "        self.cards.append(card)\n",
    "        self.value += values[card.rank]\n",
    "        if card.rank == 'Ace':\n",
    "            self.aces += 1\n",
    "    \n",
    "    def adjust_for_ace(self):\n",
    "        \n",
    "        while self.value  > 21 and self.cnt < self.aces:\n",
    "            self.value += -10\n",
    "            self.cnt += 1\n",
    "            \n",
    "    def __str__(self):\n",
    "        #return [ x.__str__() for x in self.deck]\n",
    "        #return self.deck\n",
    "        hnd = ''\n",
    "        for card in self.cards:\n",
    "            hnd += card.__str__() + '\\n'\n",
    "        return hnd"
   ]
  },
  {
   "cell_type": "code",
   "execution_count": 98,
   "metadata": {},
   "outputs": [
    {
     "data": {
      "text/plain": [
       "13"
      ]
     },
     "execution_count": 98,
     "metadata": {},
     "output_type": "execute_result"
    }
   ],
   "source": [
    "h = Hand()\n",
    "h.add_card(Card('Hearts','Ace'))\n",
    "h.add_card(Card('Spades','Ace'))\n",
    "h.add_card(Card('Diamonds','Ace'))\n",
    "h.adjust_for_ace()\n",
    "h.value"
   ]
  },
  {
   "cell_type": "markdown",
   "metadata": {},
   "source": [
    "**Step 5: Create a Chips Class**<br>\n",
    "In addition to decks of cards and hands, we need to keep track of a Player's starting chips, bets, and ongoing winnings. This could be done using global variables, but in the spirit of object oriented programming, let's make a Chips class instead!"
   ]
  },
  {
   "cell_type": "code",
   "execution_count": 79,
   "metadata": {
    "collapsed": true
   },
   "outputs": [],
   "source": [
    "class Chips:\n",
    "    \n",
    "    def __init__(self):\n",
    "        self.total = 100  # This can be set to a default value or supplied by a user input\n",
    "        self.bet = 0\n",
    "        \n",
    "    def win_bet(self):\n",
    "        self.total += self.bet\n",
    "    \n",
    "    def lose_bet(self):\n",
    "        self.total += -self.bet"
   ]
  },
  {
   "cell_type": "code",
   "execution_count": 81,
   "metadata": {},
   "outputs": [
    {
     "data": {
      "text/plain": [
       "85"
      ]
     },
     "execution_count": 81,
     "metadata": {},
     "output_type": "execute_result"
    }
   ],
   "source": [
    "bet = Chips()\n",
    "bet.bet = 15\n",
    "bet.lose_bet()\n",
    "bet.total"
   ]
  },
  {
   "cell_type": "markdown",
   "metadata": {},
   "source": [
    "### Function Defintions\n",
    "A lot of steps are going to be repetitive. That's where functions come in! The following steps are guidelines - add or remove functions as needed in your own program."
   ]
  },
  {
   "cell_type": "markdown",
   "metadata": {},
   "source": [
    "**Step 6: Write a function for taking bets**<br>\n",
    "Since we're asking the user for an integer value, this would be a good place to use <code>try</code>/<code>except</code>. Remember to check that a Player's bet can be covered by their available chips."
   ]
  },
  {
   "cell_type": "code",
   "execution_count": 82,
   "metadata": {
    "collapsed": true
   },
   "outputs": [],
   "source": [
    "def take_bet(chips):\n",
    "    \n",
    "    while True:\n",
    "        try: \n",
    "            chips.bet = int(input(\"Please place your bet(integer): \"))\n",
    "        except:\n",
    "            print(\"I'm sorry, but that isn't an integer\")\n",
    "        else:\n",
    "            if chips.bet <= chips.total:\n",
    "                print(\"Ok, the bet is on!\")\n",
    "                return chips\n",
    "                break\n",
    "            else:\n",
    "                print(\"You don't have enough chips to make this bet\")"
   ]
  },
  {
   "cell_type": "code",
   "execution_count": 83,
   "metadata": {},
   "outputs": [
    {
     "name": "stdout",
     "output_type": "stream",
     "text": [
      "Please place your bet(integer): 15\n",
      "Ok, the bet is on!\n"
     ]
    },
    {
     "data": {
      "text/plain": [
       "115"
      ]
     },
     "execution_count": 83,
     "metadata": {},
     "output_type": "execute_result"
    }
   ],
   "source": [
    "b = take_bet(Chips())\n",
    "\n",
    "b.total\n",
    "b.bet\n",
    "b.win_bet()\n",
    "b.total"
   ]
  },
  {
   "cell_type": "markdown",
   "metadata": {},
   "source": [
    "**Step 7: Write a function for taking hits**<br>\n",
    "Either player can take hits until they bust. This function will be called during gameplay anytime a Player requests a hit, or a Dealer's hand is less than 17. It should take in Deck and Hand objects as arguments, and deal one card off the deck and add it to the Hand. You may want it to check for aces in the event that a player's hand exceeds 21."
   ]
  },
  {
   "cell_type": "code",
   "execution_count": 99,
   "metadata": {
    "collapsed": true
   },
   "outputs": [],
   "source": [
    "def hit(deck,hand):\n",
    "    \n",
    "    #if hand.value < 21:\n",
    "    hand.add_card(deck.deal())\n",
    "    hand.adjust_for_ace()\n",
    "    print (\"Hit! Your new total is {}\".format(hand.value))\n",
    "\n",
    "    "
   ]
  },
  {
   "cell_type": "code",
   "execution_count": 102,
   "metadata": {},
   "outputs": [
    {
     "name": "stdout",
     "output_type": "stream",
     "text": [
      "Hit! Your new total is 33\n",
      "Ace of Hearts\n",
      "Ace of Spades\n",
      "Ace of Diamonds\n",
      "Queen of Clubs\n",
      "Jack of Clubs\n",
      "Ten of Clubs\n",
      "\n"
     ]
    }
   ],
   "source": [
    "h.cards\n",
    "hit(test_deck, h)\n",
    "print(h)"
   ]
  },
  {
   "cell_type": "markdown",
   "metadata": {},
   "source": [
    "**Step 8: Write a function prompting the Player to Hit or Stand**<br>\n",
    "This function should accept the deck and the player's hand as arguments, and assign playing as a global variable.<br>\n",
    "If the Player Hits, employ the hit() function above. If the Player Stands, set the playing variable to False - this will control the behavior of a <code>while</code> loop later on in our code."
   ]
  },
  {
   "cell_type": "code",
   "execution_count": 131,
   "metadata": {},
   "outputs": [],
   "source": [
    "def hit_or_stand(deck,hand):\n",
    "    global playing  # to control an upcoming while loop\n",
    "    \n",
    "    playing = True\n",
    "    while playing:\n",
    "        while True:\n",
    "            choice = input(\"Would you like to hit or stand?(HIT or STAND): \")\n",
    "            if choice.upper() in ('HIT','STAND'):\n",
    "                break\n",
    "            else:\n",
    "                print(\"Not a valid answer. Please say HIT or STAND\")\n",
    "        if choice.upper() == 'HIT':\n",
    "            hit(deck,hand)\n",
    "            continue\n",
    "        else:\n",
    "            playing = False"
   ]
  },
  {
   "cell_type": "code",
   "execution_count": 130,
   "metadata": {},
   "outputs": [
    {
     "ename": "KeyboardInterrupt",
     "evalue": "",
     "output_type": "error",
     "traceback": [
      "\u001b[0;31m---------------------------------------------------------------------------\u001b[0m",
      "\u001b[0;31mKeyboardInterrupt\u001b[0m                         Traceback (most recent call last)",
      "\u001b[0;32m/anaconda/envs/py36/lib/python3.6/site-packages/ipykernel/kernelbase.py\u001b[0m in \u001b[0;36m_input_request\u001b[0;34m(self, prompt, ident, parent, password)\u001b[0m\n\u001b[1;32m    728\u001b[0m             \u001b[0;32mtry\u001b[0m\u001b[0;34m:\u001b[0m\u001b[0;34m\u001b[0m\u001b[0m\n\u001b[0;32m--> 729\u001b[0;31m                 \u001b[0mident\u001b[0m\u001b[0;34m,\u001b[0m \u001b[0mreply\u001b[0m \u001b[0;34m=\u001b[0m \u001b[0mself\u001b[0m\u001b[0;34m.\u001b[0m\u001b[0msession\u001b[0m\u001b[0;34m.\u001b[0m\u001b[0mrecv\u001b[0m\u001b[0;34m(\u001b[0m\u001b[0mself\u001b[0m\u001b[0;34m.\u001b[0m\u001b[0mstdin_socket\u001b[0m\u001b[0;34m,\u001b[0m \u001b[0;36m0\u001b[0m\u001b[0;34m)\u001b[0m\u001b[0;34m\u001b[0m\u001b[0m\n\u001b[0m\u001b[1;32m    730\u001b[0m             \u001b[0;32mexcept\u001b[0m \u001b[0mException\u001b[0m\u001b[0;34m:\u001b[0m\u001b[0;34m\u001b[0m\u001b[0m\n",
      "\u001b[0;32m/anaconda/envs/py36/lib/python3.6/site-packages/jupyter_client/session.py\u001b[0m in \u001b[0;36mrecv\u001b[0;34m(self, socket, mode, content, copy)\u001b[0m\n\u001b[1;32m    802\u001b[0m         \u001b[0;32mtry\u001b[0m\u001b[0;34m:\u001b[0m\u001b[0;34m\u001b[0m\u001b[0m\n\u001b[0;32m--> 803\u001b[0;31m             \u001b[0mmsg_list\u001b[0m \u001b[0;34m=\u001b[0m \u001b[0msocket\u001b[0m\u001b[0;34m.\u001b[0m\u001b[0mrecv_multipart\u001b[0m\u001b[0;34m(\u001b[0m\u001b[0mmode\u001b[0m\u001b[0;34m,\u001b[0m \u001b[0mcopy\u001b[0m\u001b[0;34m=\u001b[0m\u001b[0mcopy\u001b[0m\u001b[0;34m)\u001b[0m\u001b[0;34m\u001b[0m\u001b[0m\n\u001b[0m\u001b[1;32m    804\u001b[0m         \u001b[0;32mexcept\u001b[0m \u001b[0mzmq\u001b[0m\u001b[0;34m.\u001b[0m\u001b[0mZMQError\u001b[0m \u001b[0;32mas\u001b[0m \u001b[0me\u001b[0m\u001b[0;34m:\u001b[0m\u001b[0;34m\u001b[0m\u001b[0m\n",
      "\u001b[0;32m/anaconda/envs/py36/lib/python3.6/site-packages/zmq/sugar/socket.py\u001b[0m in \u001b[0;36mrecv_multipart\u001b[0;34m(self, flags, copy, track)\u001b[0m\n\u001b[1;32m    465\u001b[0m         \"\"\"\n\u001b[0;32m--> 466\u001b[0;31m         \u001b[0mparts\u001b[0m \u001b[0;34m=\u001b[0m \u001b[0;34m[\u001b[0m\u001b[0mself\u001b[0m\u001b[0;34m.\u001b[0m\u001b[0mrecv\u001b[0m\u001b[0;34m(\u001b[0m\u001b[0mflags\u001b[0m\u001b[0;34m,\u001b[0m \u001b[0mcopy\u001b[0m\u001b[0;34m=\u001b[0m\u001b[0mcopy\u001b[0m\u001b[0;34m,\u001b[0m \u001b[0mtrack\u001b[0m\u001b[0;34m=\u001b[0m\u001b[0mtrack\u001b[0m\u001b[0;34m)\u001b[0m\u001b[0;34m]\u001b[0m\u001b[0;34m\u001b[0m\u001b[0m\n\u001b[0m\u001b[1;32m    467\u001b[0m         \u001b[0;31m# have first part already, only loop while more to receive\u001b[0m\u001b[0;34m\u001b[0m\u001b[0;34m\u001b[0m\u001b[0m\n",
      "\u001b[0;32mzmq/backend/cython/socket.pyx\u001b[0m in \u001b[0;36mzmq.backend.cython.socket.Socket.recv\u001b[0;34m()\u001b[0m\n",
      "\u001b[0;32mzmq/backend/cython/socket.pyx\u001b[0m in \u001b[0;36mzmq.backend.cython.socket.Socket.recv\u001b[0;34m()\u001b[0m\n",
      "\u001b[0;32mzmq/backend/cython/socket.pyx\u001b[0m in \u001b[0;36mzmq.backend.cython.socket._recv_copy\u001b[0;34m()\u001b[0m\n",
      "\u001b[0;32m/anaconda/envs/py36/lib/python3.6/site-packages/zmq/backend/cython/checkrc.pxd\u001b[0m in \u001b[0;36mzmq.backend.cython.checkrc._check_rc\u001b[0;34m()\u001b[0m\n",
      "\u001b[0;31mKeyboardInterrupt\u001b[0m: ",
      "\nDuring handling of the above exception, another exception occurred:\n",
      "\u001b[0;31mKeyboardInterrupt\u001b[0m                         Traceback (most recent call last)",
      "\u001b[0;32m<ipython-input-130-56ac88ad19c0>\u001b[0m in \u001b[0;36m<module>\u001b[0;34m()\u001b[0m\n\u001b[0;32m----> 1\u001b[0;31m \u001b[0mhit_or_stand\u001b[0m\u001b[0;34m(\u001b[0m\u001b[0mtest_deck\u001b[0m\u001b[0;34m,\u001b[0m \u001b[0mh\u001b[0m\u001b[0;34m)\u001b[0m\u001b[0;34m\u001b[0m\u001b[0m\n\u001b[0m\u001b[1;32m      2\u001b[0m \u001b[0mprint\u001b[0m\u001b[0;34m(\u001b[0m\u001b[0mh\u001b[0m\u001b[0;34m)\u001b[0m\u001b[0;34m\u001b[0m\u001b[0m\n",
      "\u001b[0;32m<ipython-input-129-c82ebb37653f>\u001b[0m in \u001b[0;36mhit_or_stand\u001b[0;34m(deck, hand)\u001b[0m\n\u001b[1;32m      5\u001b[0m     \u001b[0;32mwhile\u001b[0m \u001b[0mplaying\u001b[0m\u001b[0;34m:\u001b[0m\u001b[0;34m\u001b[0m\u001b[0m\n\u001b[1;32m      6\u001b[0m         \u001b[0;32mwhile\u001b[0m \u001b[0;32mTrue\u001b[0m\u001b[0;34m:\u001b[0m\u001b[0;34m\u001b[0m\u001b[0m\n\u001b[0;32m----> 7\u001b[0;31m             \u001b[0mchoice\u001b[0m \u001b[0;34m=\u001b[0m \u001b[0minput\u001b[0m\u001b[0;34m(\u001b[0m\u001b[0;34m\"Would you like to hit or stand?(HIT or STAND): \"\u001b[0m\u001b[0;34m)\u001b[0m\u001b[0;34m\u001b[0m\u001b[0m\n\u001b[0m\u001b[1;32m      8\u001b[0m             \u001b[0;32mif\u001b[0m \u001b[0mchoice\u001b[0m\u001b[0;34m.\u001b[0m\u001b[0mupper\u001b[0m\u001b[0;34m(\u001b[0m\u001b[0;34m)\u001b[0m \u001b[0;32min\u001b[0m \u001b[0;34m(\u001b[0m\u001b[0;34m'HIT'\u001b[0m\u001b[0;34m,\u001b[0m\u001b[0;34m'STAND'\u001b[0m\u001b[0;34m)\u001b[0m\u001b[0;34m:\u001b[0m\u001b[0;34m\u001b[0m\u001b[0m\n\u001b[1;32m      9\u001b[0m                 \u001b[0;32mbreak\u001b[0m\u001b[0;34m\u001b[0m\u001b[0m\n",
      "\u001b[0;32m/anaconda/envs/py36/lib/python3.6/site-packages/ipykernel/kernelbase.py\u001b[0m in \u001b[0;36mraw_input\u001b[0;34m(self, prompt)\u001b[0m\n\u001b[1;32m    702\u001b[0m             \u001b[0mself\u001b[0m\u001b[0;34m.\u001b[0m\u001b[0m_parent_ident\u001b[0m\u001b[0;34m,\u001b[0m\u001b[0;34m\u001b[0m\u001b[0m\n\u001b[1;32m    703\u001b[0m             \u001b[0mself\u001b[0m\u001b[0;34m.\u001b[0m\u001b[0m_parent_header\u001b[0m\u001b[0;34m,\u001b[0m\u001b[0;34m\u001b[0m\u001b[0m\n\u001b[0;32m--> 704\u001b[0;31m             \u001b[0mpassword\u001b[0m\u001b[0;34m=\u001b[0m\u001b[0;32mFalse\u001b[0m\u001b[0;34m,\u001b[0m\u001b[0;34m\u001b[0m\u001b[0m\n\u001b[0m\u001b[1;32m    705\u001b[0m         )\n\u001b[1;32m    706\u001b[0m \u001b[0;34m\u001b[0m\u001b[0m\n",
      "\u001b[0;32m/anaconda/envs/py36/lib/python3.6/site-packages/ipykernel/kernelbase.py\u001b[0m in \u001b[0;36m_input_request\u001b[0;34m(self, prompt, ident, parent, password)\u001b[0m\n\u001b[1;32m    732\u001b[0m             \u001b[0;32mexcept\u001b[0m \u001b[0mKeyboardInterrupt\u001b[0m\u001b[0;34m:\u001b[0m\u001b[0;34m\u001b[0m\u001b[0m\n\u001b[1;32m    733\u001b[0m                 \u001b[0;31m# re-raise KeyboardInterrupt, to truncate traceback\u001b[0m\u001b[0;34m\u001b[0m\u001b[0;34m\u001b[0m\u001b[0m\n\u001b[0;32m--> 734\u001b[0;31m                 \u001b[0;32mraise\u001b[0m \u001b[0mKeyboardInterrupt\u001b[0m\u001b[0;34m\u001b[0m\u001b[0m\n\u001b[0m\u001b[1;32m    735\u001b[0m             \u001b[0;32melse\u001b[0m\u001b[0;34m:\u001b[0m\u001b[0;34m\u001b[0m\u001b[0m\n\u001b[1;32m    736\u001b[0m                 \u001b[0;32mbreak\u001b[0m\u001b[0;34m\u001b[0m\u001b[0m\n",
      "\u001b[0;31mKeyboardInterrupt\u001b[0m: "
     ]
    }
   ],
   "source": [
    "hit_or_stand(test_deck, h)\n",
    "print(h)"
   ]
  },
  {
   "cell_type": "markdown",
   "metadata": {},
   "source": [
    "**Step 9: Write functions to display cards**<br>\n",
    "When the game starts, and after each time Player takes a card, the dealer's first card is hidden and all of Player's cards are visible. At the end of the hand all cards are shown, and you may want to show each hand's total value. Write a function for each of these scenarios."
   ]
  },
  {
   "cell_type": "code",
   "execution_count": 124,
   "metadata": {},
   "outputs": [],
   "source": [
    "def show_some(player,dealer):\n",
    "    \n",
    "    print(\"------------dealer---------------\\n\")\n",
    "    for item in range(1,len(dealer.cards) ):\n",
    "        print(str(dealer.cards[item]) + '\\n')\n",
    "    print(\"------------Player---------------\\n\")\n",
    "    for item in range(0,len(player.cards) ):\n",
    "        print(str(player.cards[item]) + '\\n')\n",
    "    print ('Total: ' + str(player.value) + '\\n')\n",
    "    \n",
    "def show_all(player,dealer):\n",
    "    \n",
    "    print(\"------------dealer---------------\\n\")\n",
    "    for item in range(0,len(dealer.cards) ):\n",
    "        print(str(dealer.cards[item]) + '\\n')\n",
    "    print ('Total: ' + str(dealer.value) + '\\n')\n",
    "    print(\"------------Player---------------\\n\")\n",
    "    for item in range(0,len(player.cards)):\n",
    "        print(str(player.cards[item]) + '\\n')\n",
    "    print ('Total: ' + str(player.value) + '\\n')"
   ]
  },
  {
   "cell_type": "code",
   "execution_count": 104,
   "metadata": {
    "collapsed": true
   },
   "outputs": [],
   "source": [
    "dealh = Hand()\n"
   ]
  },
  {
   "cell_type": "code",
   "execution_count": 106,
   "metadata": {},
   "outputs": [
    {
     "name": "stdout",
     "output_type": "stream",
     "text": [
      "Would you like to hit or stand?(HIT or STAND): hit\n",
      "Hit! Your new total is 7\n",
      "Would you like to hit or stand?(HIT or STAND): hit\n",
      "Hit! Your new total is 13\n",
      "Would you like to hit or stand?(HIT or STAND): hit\n",
      "Hit! Your new total is 18\n",
      "Would you like to hit or stand?(HIT or STAND): stand\n"
     ]
    }
   ],
   "source": [
    "hit_or_stand(test_deck ,dealh)"
   ]
  },
  {
   "cell_type": "code",
   "execution_count": 116,
   "metadata": {},
   "outputs": [
    {
     "name": "stdout",
     "output_type": "stream",
     "text": [
      "------------dealer---------------\n",
      "\n",
      "Seven of Clubs\n",
      "\n",
      "Six of Clubs\n",
      "\n",
      "Five of Clubs\n",
      "\n",
      "------------Player---------------\n",
      "\n",
      "Ace of Hearts\n",
      "\n",
      "Ace of Spades\n",
      "\n",
      "Ace of Diamonds\n",
      "\n",
      "Queen of Clubs\n",
      "\n",
      "Jack of Clubs\n",
      "\n",
      "Ten of Clubs\n",
      "\n",
      "Nine of Clubs\n",
      "\n",
      "Eight of Clubs\n",
      "\n"
     ]
    }
   ],
   "source": [
    "#print(dealh)\n",
    "show_all(h, dealh)"
   ]
  },
  {
   "cell_type": "markdown",
   "metadata": {},
   "source": [
    "**Step 10: Write functions to handle end of game scenarios**<br>\n",
    "Remember to pass player's hand, dealer's hand and chips as needed."
   ]
  },
  {
   "cell_type": "code",
   "execution_count": 139,
   "metadata": {
    "collapsed": true
   },
   "outputs": [],
   "source": [
    "def player_busts(chips):\n",
    "    print(\"Bust! Player loses\")\n",
    "    chips.lose_bet()\n",
    "def player_wins(chips):\n",
    "    print(\"Winner Winner! Player wins\")\n",
    "    chips.win_bet()\n",
    "\n",
    "def dealer_busts(chips):\n",
    "    print(\"Dealer Bust! Player Wins\")\n",
    "    chips.win_bet()\n",
    "    \n",
    "def dealer_wins(chips):\n",
    "    print(\"Dealer wins... Player loses\")\n",
    "    chips.lose_bet()\n",
    "    \n",
    "def push():\n",
    "    print(\"Push! No one wins :| \")"
   ]
  },
  {
   "cell_type": "markdown",
   "metadata": {},
   "source": [
    "### And now on to the game!!"
   ]
  },
  {
   "cell_type": "code",
   "execution_count": 141,
   "metadata": {
    "scrolled": false
   },
   "outputs": [
    {
     "name": "stdout",
     "output_type": "stream",
     "text": [
      "Welcome Back To BlackJack!\n",
      "Please place your bet(integer): 25\n",
      "Ok, the bet is on!\n",
      "------------dealer---------------\n",
      "\n",
      "Queen of Spades\n",
      "\n",
      "------------Player---------------\n",
      "\n",
      "Eight of Hearts\n",
      "\n",
      "King of Spades\n",
      "\n",
      "Total: 18\n",
      "\n",
      "Would you like to hit or stand?(HIT or STAND): stand\n",
      "------------dealer---------------\n",
      "\n",
      "Queen of Spades\n",
      "\n",
      "------------Player---------------\n",
      "\n",
      "Eight of Hearts\n",
      "\n",
      "King of Spades\n",
      "\n",
      "Total: 18\n",
      "\n",
      "------------dealer---------------\n",
      "\n",
      "Three of Spades\n",
      "\n",
      "Queen of Spades\n",
      "\n",
      "Ace of Spades\n",
      "\n",
      "Six of Clubs\n",
      "\n",
      "Total: 20\n",
      "\n",
      "------------Player---------------\n",
      "\n",
      "Eight of Hearts\n",
      "\n",
      "King of Spades\n",
      "\n",
      "Total: 18\n",
      "\n",
      "Dealer wins... Player loses\n",
      "You have $75 remaining\n",
      "Would you like to play again? Enter 'yes' or 'no' yes\n",
      "Welcome Back To BlackJack!\n",
      "Please place your bet(integer): 25\n",
      "Ok, the bet is on!\n",
      "------------dealer---------------\n",
      "\n",
      "Ten of Clubs\n",
      "\n",
      "------------Player---------------\n",
      "\n",
      "Three of Clubs\n",
      "\n",
      "Eight of Diamonds\n",
      "\n",
      "Total: 11\n",
      "\n",
      "Would you like to hit or stand?(HIT or STAND): hit\n",
      "Hit! Your new total is 12\n",
      "Would you like to hit or stand?(HIT or STAND): hit\n",
      "Hit! Your new total is 21\n",
      "Would you like to hit or stand?(HIT or STAND): stand\n",
      "------------dealer---------------\n",
      "\n",
      "Ten of Clubs\n",
      "\n",
      "------------Player---------------\n",
      "\n",
      "Three of Clubs\n",
      "\n",
      "Eight of Diamonds\n",
      "\n",
      "Ace of Clubs\n",
      "\n",
      "Nine of Hearts\n",
      "\n",
      "Total: 21\n",
      "\n",
      "------------dealer---------------\n",
      "\n",
      "Jack of Hearts\n",
      "\n",
      "Ten of Clubs\n",
      "\n",
      "Total: 20\n",
      "\n",
      "------------Player---------------\n",
      "\n",
      "Three of Clubs\n",
      "\n",
      "Eight of Diamonds\n",
      "\n",
      "Ace of Clubs\n",
      "\n",
      "Nine of Hearts\n",
      "\n",
      "Total: 21\n",
      "\n",
      "Winner Winner! Player wins\n",
      "You have $100 remaining\n",
      "Would you like to play again? Enter 'yes' or 'no' yes\n",
      "Welcome Back To BlackJack!\n",
      "Please place your bet(integer): 125\n",
      "You don't have enough chips to make this bet\n",
      "Please place your bet(integer): 100\n",
      "Ok, the bet is on!\n",
      "------------dealer---------------\n",
      "\n",
      "Four of Diamonds\n",
      "\n",
      "------------Player---------------\n",
      "\n",
      "Four of Hearts\n",
      "\n",
      "Two of Hearts\n",
      "\n",
      "Total: 6\n",
      "\n",
      "Would you like to hit or stand?(HIT or STAND): hit\n",
      "Hit! Your new total is 8\n",
      "Would you like to hit or stand?(HIT or STAND): hit\n",
      "Hit! Your new total is 17\n",
      "Would you like to hit or stand?(HIT or STAND): stand\n",
      "------------dealer---------------\n",
      "\n",
      "Four of Diamonds\n",
      "\n",
      "------------Player---------------\n",
      "\n",
      "Four of Hearts\n",
      "\n",
      "Two of Hearts\n",
      "\n",
      "Two of Diamonds\n",
      "\n",
      "Nine of Diamonds\n",
      "\n",
      "Total: 17\n",
      "\n",
      "------------dealer---------------\n",
      "\n",
      "Five of Spades\n",
      "\n",
      "Four of Diamonds\n",
      "\n",
      "King of Clubs\n",
      "\n",
      "Total: 19\n",
      "\n",
      "------------Player---------------\n",
      "\n",
      "Four of Hearts\n",
      "\n",
      "Two of Hearts\n",
      "\n",
      "Two of Diamonds\n",
      "\n",
      "Nine of Diamonds\n",
      "\n",
      "Total: 17\n",
      "\n",
      "Dealer wins... Player loses\n",
      "You have $0 remaining\n",
      "Would you like to play again? Enter 'yes' or 'no' yes\n",
      "Welcome Back To BlackJack!\n",
      "Please place your bet(integer): 1\n",
      "You don't have enough chips to make this bet\n",
      "Please place your bet(integer): 0\n",
      "Ok, the bet is on!\n",
      "------------dealer---------------\n",
      "\n",
      "Ten of Spades\n",
      "\n",
      "------------Player---------------\n",
      "\n",
      "Jack of Spades\n",
      "\n",
      "Nine of Clubs\n",
      "\n",
      "Total: 19\n",
      "\n",
      "Would you like to hit or stand?(HIT or STAND): stand\n",
      "------------dealer---------------\n",
      "\n",
      "Ten of Spades\n",
      "\n",
      "------------Player---------------\n",
      "\n",
      "Jack of Spades\n",
      "\n",
      "Nine of Clubs\n",
      "\n",
      "Total: 19\n",
      "\n",
      "------------dealer---------------\n",
      "\n",
      "Four of Spades\n",
      "\n",
      "Ten of Spades\n",
      "\n",
      "King of Spades\n",
      "\n",
      "Total: 24\n",
      "\n",
      "------------Player---------------\n",
      "\n",
      "Jack of Spades\n",
      "\n",
      "Nine of Clubs\n",
      "\n",
      "Total: 19\n",
      "\n",
      "Dealer Bust! Player Wins\n",
      "You have $0 remaining\n",
      "Would you like to play again? Enter 'yes' or 'no' no\n",
      "See you next time!\n"
     ]
    }
   ],
   "source": [
    "money = Chips()\n",
    "while True:\n",
    "    # Print an opening statement\n",
    "\n",
    "    print('Welcome Back To BlackJack!')\n",
    "    # Create & shuffle the deck, deal two cards to each player\n",
    "    \n",
    "    game_deck = Deck()\n",
    "    game_deck.shuffle()\n",
    "    \n",
    "    player = Hand()\n",
    "    dealer = Hand()\n",
    "    \n",
    "    player.add_card(game_deck.deal())\n",
    "    dealer.add_card(game_deck.deal())\n",
    "    player.add_card(game_deck.deal())\n",
    "    dealer.add_card(game_deck.deal())\n",
    "    \n",
    "   #add clear feature, figure out how to keep money constant\n",
    "\n",
    "    \n",
    "        \n",
    "    # Set up the Player's chips\n",
    "    \n",
    "    \n",
    "    # Prompt the Player for their bet\n",
    "    take_bet(money)\n",
    "\n",
    "    \n",
    "    # Show cards (but keep one dealer card hidden)\n",
    "    show_some(player, dealer)\n",
    "\n",
    "    playing = True\n",
    "    while playing:  # recall this variable from our hit_or_stand function\n",
    "        \n",
    "        # Prompt for Player to Hit or Stand\n",
    "        hit_or_stand(game_deck, player)\n",
    "        \n",
    "        # Show cards (but keep one dealer card hidden)\n",
    "        show_some(player, dealer)\n",
    " \n",
    "        \n",
    "        # If player's hand exceeds 21, run player_busts() and break out of loop\n",
    "        if player.value > 21:\n",
    "            \n",
    "            player_busts(money)\n",
    "            break\n",
    "\n",
    "    # If Player hasn't busted, play Dealer's hand until Dealer reaches 17\n",
    "        else:\n",
    "            \n",
    "            while 17 > dealer.value:\n",
    "                \n",
    "                dealer.add_card(game_deck.deal())\n",
    "                dealer.adjust_for_ace()\n",
    "    \n",
    "        # Show all cards\n",
    "        \n",
    "        show_all(player, dealer)\n",
    "    \n",
    "        # Run different winning scenarios\n",
    "        \n",
    "        if dealer.value > 21:\n",
    "            dealer_busts(money)\n",
    "            \n",
    "        elif dealer.value > player.value:\n",
    "            \n",
    "            dealer_wins(money)\n",
    "            \n",
    "        elif dealer.value < player.value:\n",
    "            \n",
    "            player_wins(money)\n",
    "            \n",
    "        else:\n",
    "            push()\n",
    "    \n",
    "    # Inform Player of their chips total \n",
    "    \n",
    "    print('You have $' + str(money.total) + ' remaining')\n",
    "    \n",
    "    # Ask to play again\n",
    "    new_game = input(\"Would you like to play again? Enter 'yes' or 'no' \")\n",
    "    \n",
    "    if new_game.lower() == 'yes':\n",
    "        playing == True\n",
    "        continue\n",
    "    else:\n",
    "        print('See you next time!')\n",
    "        break"
   ]
  },
  {
   "cell_type": "markdown",
   "metadata": {},
   "source": [
    "And that's it! Remember, these steps may differ significantly from your own solution. That's OK! Keep working on different sections of your program until you get the desired results. It takes a lot of time and patience! As always, feel free to post questions and comments to the QA Forums.\n",
    "# Good job!"
   ]
  }
 ],
 "metadata": {
  "kernelspec": {
   "display_name": "Python 3",
   "language": "python",
   "name": "python3"
  },
  "language_info": {
   "codemirror_mode": {
    "name": "ipython",
    "version": 3
   },
   "file_extension": ".py",
   "mimetype": "text/x-python",
   "name": "python",
   "nbconvert_exporter": "python",
   "pygments_lexer": "ipython3",
   "version": "3.6.4"
  }
 },
 "nbformat": 4,
 "nbformat_minor": 1
}
